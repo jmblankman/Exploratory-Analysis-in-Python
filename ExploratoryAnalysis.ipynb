{
 "cells": [
  {
   "cell_type": "code",
   "execution_count": 1,
   "metadata": {},
   "outputs": [],
   "source": [
    "import numpy as np\n",
    "import pandas as pd \n",
    "import matplotlib.pyplot as plt \n",
    "import scipy.stats as stats\n",
    "import statsmodels.api as sm\n",
    "import statsmodels.formula.api as smf\n",
    "import seaborn as sns\n",
    "from sklearn.model_selection import train_test_split\n",
    "from sklearn.preprocessing import StandardScaler  \n",
    "from sklearn.neighbors import KNeighborsClassifier \n",
    "from sklearn import metrics"
   ]
  },
  {
   "cell_type": "markdown",
   "metadata": {},
   "source": [
    "# Predicting Market Value Using Linear Regression "
   ]
  },
  {
   "cell_type": "code",
   "execution_count": 2,
   "metadata": {},
   "outputs": [],
   "source": [
    "## Download the dataset GlenCove"
   ]
  },
  {
   "cell_type": "code",
   "execution_count": 3,
   "metadata": {},
   "outputs": [],
   "source": [
    "## Upload the dataset using pandas"
   ]
  },
  {
   "cell_type": "code",
   "execution_count": 4,
   "metadata": {},
   "outputs": [],
   "source": [
    "glen_file = 'C:\\\\Users\\\\Joey\\\\Documents\\\\GlenCove.xlsx'\n",
    "GlenCove = pd.read_excel(glen_file)"
   ]
  },
  {
   "cell_type": "code",
   "execution_count": 5,
   "metadata": {},
   "outputs": [],
   "source": [
    "## View the first 10 rows of the data using the head method"
   ]
  },
  {
   "cell_type": "code",
   "execution_count": 6,
   "metadata": {},
   "outputs": [
    {
     "name": "stdout",
     "output_type": "stream",
     "text": [
      "                 Address  Fair Market Value($000)  Property Size (acres)  Age  \\\n",
      "0        9 Sycamore Road                    522.9                 0.2297   56   \n",
      "1        21 Jefferson St                    425.0                 0.2192   61   \n",
      "2  38 Hitching Post Lane                    539.2                 0.1630   39   \n",
      "3           4 Poppy Lane                    628.2                 0.4608   28   \n",
      "4         5 Daniel Drive                    490.4                 0.2549   56   \n",
      "5     15 Francis Terrace                    487.7                 0.2290   98   \n",
      "6      23 Guilfoy Street                    370.3                 0.1808   58   \n",
      "7       17 Carlyle Drive                    777.9                 0.5015   17   \n",
      "8         8 Craft Avenue                    347.1                 0.2229   62   \n",
      "9       22 Beechwood Ct.                    756.8                 0.1300   25   \n",
      "\n",
      "   House Size (square feet)  Rooms  Baths  Garage  \n",
      "0                      2448      7    3.5       2  \n",
      "1                      1942      7    2.5       1  \n",
      "2                      2073      5    3.0       2  \n",
      "3                      2707      8    2.5       1  \n",
      "4                      2042      7    1.5       1  \n",
      "5                      2089      7    2.0       0  \n",
      "6                      1433      7    2.0       0  \n",
      "7                      2991      9    2.5       1  \n",
      "8                      1008      5    1.0       0  \n",
      "9                      3202      8    2.5       2  \n"
     ]
    }
   ],
   "source": [
    "print(GlenCove.head(n=10))"
   ]
  },
  {
   "cell_type": "code",
   "execution_count": 7,
   "metadata": {},
   "outputs": [],
   "source": [
    "## Rename the columns"
   ]
  },
  {
   "cell_type": "code",
   "execution_count": 8,
   "metadata": {},
   "outputs": [],
   "source": [
    "GlenCove = GlenCove.rename(columns={'Fair Market Value($000)':'fair_market_value', 'Property Size (acres)':'property_size', 'House Size (square feet)':'house_size'})"
   ]
  },
  {
   "cell_type": "code",
   "execution_count": 9,
   "metadata": {},
   "outputs": [],
   "source": [
    "## Recode garage values as binary and remove the age column"
   ]
  },
  {
   "cell_type": "code",
   "execution_count": 10,
   "metadata": {},
   "outputs": [
    {
     "data": {
      "text/html": [
       "<div>\n",
       "<style scoped>\n",
       "    .dataframe tbody tr th:only-of-type {\n",
       "        vertical-align: middle;\n",
       "    }\n",
       "\n",
       "    .dataframe tbody tr th {\n",
       "        vertical-align: top;\n",
       "    }\n",
       "\n",
       "    .dataframe thead th {\n",
       "        text-align: right;\n",
       "    }\n",
       "</style>\n",
       "<table border=\"1\" class=\"dataframe\">\n",
       "  <thead>\n",
       "    <tr style=\"text-align: right;\">\n",
       "      <th></th>\n",
       "      <th>Address</th>\n",
       "      <th>fair_market_value</th>\n",
       "      <th>property_size</th>\n",
       "      <th>house_size</th>\n",
       "      <th>Rooms</th>\n",
       "      <th>Baths</th>\n",
       "      <th>Garage</th>\n",
       "    </tr>\n",
       "  </thead>\n",
       "  <tbody>\n",
       "    <tr>\n",
       "      <th>0</th>\n",
       "      <td>9 Sycamore Road</td>\n",
       "      <td>522.9</td>\n",
       "      <td>0.2297</td>\n",
       "      <td>2448</td>\n",
       "      <td>7</td>\n",
       "      <td>3.5</td>\n",
       "      <td>1</td>\n",
       "    </tr>\n",
       "    <tr>\n",
       "      <th>1</th>\n",
       "      <td>21 Jefferson St</td>\n",
       "      <td>425.0</td>\n",
       "      <td>0.2192</td>\n",
       "      <td>1942</td>\n",
       "      <td>7</td>\n",
       "      <td>2.5</td>\n",
       "      <td>1</td>\n",
       "    </tr>\n",
       "    <tr>\n",
       "      <th>2</th>\n",
       "      <td>38 Hitching Post Lane</td>\n",
       "      <td>539.2</td>\n",
       "      <td>0.1630</td>\n",
       "      <td>2073</td>\n",
       "      <td>5</td>\n",
       "      <td>3.0</td>\n",
       "      <td>1</td>\n",
       "    </tr>\n",
       "    <tr>\n",
       "      <th>3</th>\n",
       "      <td>4 Poppy Lane</td>\n",
       "      <td>628.2</td>\n",
       "      <td>0.4608</td>\n",
       "      <td>2707</td>\n",
       "      <td>8</td>\n",
       "      <td>2.5</td>\n",
       "      <td>1</td>\n",
       "    </tr>\n",
       "    <tr>\n",
       "      <th>4</th>\n",
       "      <td>5 Daniel Drive</td>\n",
       "      <td>490.4</td>\n",
       "      <td>0.2549</td>\n",
       "      <td>2042</td>\n",
       "      <td>7</td>\n",
       "      <td>1.5</td>\n",
       "      <td>1</td>\n",
       "    </tr>\n",
       "    <tr>\n",
       "      <th>5</th>\n",
       "      <td>15 Francis Terrace</td>\n",
       "      <td>487.7</td>\n",
       "      <td>0.2290</td>\n",
       "      <td>2089</td>\n",
       "      <td>7</td>\n",
       "      <td>2.0</td>\n",
       "      <td>0</td>\n",
       "    </tr>\n",
       "    <tr>\n",
       "      <th>6</th>\n",
       "      <td>23 Guilfoy Street</td>\n",
       "      <td>370.3</td>\n",
       "      <td>0.1808</td>\n",
       "      <td>1433</td>\n",
       "      <td>7</td>\n",
       "      <td>2.0</td>\n",
       "      <td>0</td>\n",
       "    </tr>\n",
       "    <tr>\n",
       "      <th>7</th>\n",
       "      <td>17 Carlyle Drive</td>\n",
       "      <td>777.9</td>\n",
       "      <td>0.5015</td>\n",
       "      <td>2991</td>\n",
       "      <td>9</td>\n",
       "      <td>2.5</td>\n",
       "      <td>1</td>\n",
       "    </tr>\n",
       "    <tr>\n",
       "      <th>8</th>\n",
       "      <td>8 Craft Avenue</td>\n",
       "      <td>347.1</td>\n",
       "      <td>0.2229</td>\n",
       "      <td>1008</td>\n",
       "      <td>5</td>\n",
       "      <td>1.0</td>\n",
       "      <td>0</td>\n",
       "    </tr>\n",
       "    <tr>\n",
       "      <th>9</th>\n",
       "      <td>22 Beechwood Ct.</td>\n",
       "      <td>756.8</td>\n",
       "      <td>0.1300</td>\n",
       "      <td>3202</td>\n",
       "      <td>8</td>\n",
       "      <td>2.5</td>\n",
       "      <td>1</td>\n",
       "    </tr>\n",
       "  </tbody>\n",
       "</table>\n",
       "</div>"
      ],
      "text/plain": [
       "                 Address  fair_market_value  property_size  house_size  Rooms  \\\n",
       "0        9 Sycamore Road              522.9         0.2297        2448      7   \n",
       "1        21 Jefferson St              425.0         0.2192        1942      7   \n",
       "2  38 Hitching Post Lane              539.2         0.1630        2073      5   \n",
       "3           4 Poppy Lane              628.2         0.4608        2707      8   \n",
       "4         5 Daniel Drive              490.4         0.2549        2042      7   \n",
       "5     15 Francis Terrace              487.7         0.2290        2089      7   \n",
       "6      23 Guilfoy Street              370.3         0.1808        1433      7   \n",
       "7       17 Carlyle Drive              777.9         0.5015        2991      9   \n",
       "8         8 Craft Avenue              347.1         0.2229        1008      5   \n",
       "9       22 Beechwood Ct.              756.8         0.1300        3202      8   \n",
       "\n",
       "   Baths  Garage  \n",
       "0    3.5       1  \n",
       "1    2.5       1  \n",
       "2    3.0       1  \n",
       "3    2.5       1  \n",
       "4    1.5       1  \n",
       "5    2.0       0  \n",
       "6    2.0       0  \n",
       "7    2.5       1  \n",
       "8    1.0       0  \n",
       "9    2.5       1  "
      ]
     },
     "execution_count": 10,
     "metadata": {},
     "output_type": "execute_result"
    }
   ],
   "source": [
    "garage_dummies = pd.get_dummies(GlenCove['Garage']).iloc[:, 1:]\n",
    "garage_dummies = garage_dummies[1] + garage_dummies[2]\n",
    "GlenCove_final = GlenCove.drop('Age', 1)\n",
    "GlenCove_final['Garage'] = garage_dummies\n",
    "GlenCove_final.head(n=10)"
   ]
  },
  {
   "cell_type": "code",
   "execution_count": 11,
   "metadata": {},
   "outputs": [],
   "source": [
    "## Print the summary statistics for all the numerical columns"
   ]
  },
  {
   "cell_type": "code",
   "execution_count": 12,
   "metadata": {},
   "outputs": [
    {
     "name": "stdout",
     "output_type": "stream",
     "text": [
      "       fair_market_value  property_size   house_size      Rooms      Baths\n",
      "count          30.000000      30.000000    30.000000  30.000000  30.000000\n",
      "mean          474.910000       0.275960  1978.833333   6.833333   2.000000\n",
      "std           144.312669       0.236445   550.875234   1.487496   0.694808\n",
      "min           310.200000       0.085200  1008.000000   5.000000   1.000000\n",
      "25%           374.675000       0.152650  1622.250000   6.000000   1.625000\n",
      "50%           431.200000       0.204050  1992.000000   7.000000   2.000000\n",
      "75%           535.125000       0.270350  2205.500000   7.750000   2.500000\n",
      "max           889.000000       1.310000  3202.000000  11.000000   3.500000\n"
     ]
    }
   ],
   "source": [
    "GlenCove_numeric = GlenCove_final[['fair_market_value', 'property_size', 'house_size', 'Rooms', 'Baths']]\n",
    "GlenCove_sum = GlenCove_numeric.describe()\n",
    "print(GlenCove_sum)"
   ]
  },
  {
   "cell_type": "code",
   "execution_count": 13,
   "metadata": {},
   "outputs": [],
   "source": [
    "### Print the correlation matrix for property_size, house_size, Rooms, and Baths"
   ]
  },
  {
   "cell_type": "code",
   "execution_count": 14,
   "metadata": {},
   "outputs": [
    {
     "name": "stdout",
     "output_type": "stream",
     "text": [
      "               property_size  house_size     Rooms     Baths\n",
      "property_size       1.000000    0.211664  0.052963  0.053408\n",
      "house_size          0.211664    1.000000  0.399573  0.521314\n",
      "Rooms               0.052963    0.399573  1.000000  0.133457\n",
      "Baths               0.053408    0.521314  0.133457  1.000000\n"
     ]
    }
   ],
   "source": [
    "print(GlenCove_final[['property_size','house_size','Rooms','Baths']].corr())"
   ]
  },
  {
   "cell_type": "code",
   "execution_count": 15,
   "metadata": {},
   "outputs": [],
   "source": [
    "## Type out the direction and strength of the correlation between\n",
    "## each pair of variables in your matrix "
   ]
  },
  {
   "cell_type": "code",
   "execution_count": 16,
   "metadata": {},
   "outputs": [],
   "source": [
    "## Property Size: \n",
    "## weak positive correlations with house_size, Rooms, and Baths\n",
    "\n",
    "## House Size: \n",
    "## weak positive correlations with property_size and Rooms, \n",
    "## moderate positive correlation with Baths\n",
    "\n",
    "## Rooms:\n",
    "## weak positive correlations with property_size, house_size, and Baths\n",
    "\n",
    "## Baths:\n",
    "## weak positive correlations with property_size and Rooms,\n",
    "## moderate positive correlation with house_size"
   ]
  },
  {
   "cell_type": "code",
   "execution_count": 17,
   "metadata": {},
   "outputs": [],
   "source": [
    "## Using the statsmodels library, fit the data to a linear regression model"
   ]
  },
  {
   "cell_type": "code",
   "execution_count": 18,
   "metadata": {},
   "outputs": [],
   "source": [
    "results = smf.ols('fair_market_value ~ property_size + house_size + Rooms + Baths + Garage', data = GlenCove_final).fit()"
   ]
  },
  {
   "cell_type": "code",
   "execution_count": 19,
   "metadata": {},
   "outputs": [],
   "source": [
    "## Print the regression results summary"
   ]
  },
  {
   "cell_type": "code",
   "execution_count": 20,
   "metadata": {},
   "outputs": [
    {
     "name": "stdout",
     "output_type": "stream",
     "text": [
      "                            OLS Regression Results                            \n",
      "==============================================================================\n",
      "Dep. Variable:      fair_market_value   R-squared:                       0.815\n",
      "Model:                            OLS   Adj. R-squared:                  0.776\n",
      "Method:                 Least Squares   F-statistic:                     21.09\n",
      "Date:                Tue, 18 May 2021   Prob (F-statistic):           4.52e-08\n",
      "Time:                        01:46:51   Log-Likelihood:                -165.94\n",
      "No. Observations:                  30   AIC:                             343.9\n",
      "Df Residuals:                      24   BIC:                             352.3\n",
      "Df Model:                           5                                         \n",
      "Covariance Type:            nonrobust                                         \n",
      "=================================================================================\n",
      "                    coef    std err          t      P>|t|      [0.025      0.975]\n",
      "---------------------------------------------------------------------------------\n",
      "Intercept        78.0523     67.779      1.152      0.261     -61.837     217.942\n",
      "property_size   359.3104     56.919      6.313      0.000     241.836     476.785\n",
      "house_size        0.1025      0.033      3.117      0.005       0.035       0.170\n",
      "Rooms             0.7385      9.667      0.076      0.940     -19.214      20.691\n",
      "Baths            36.8445     21.904      1.682      0.106      -8.363      82.052\n",
      "Garage           28.3802     31.716      0.895      0.380     -37.078      93.839\n",
      "==============================================================================\n",
      "Omnibus:                        4.370   Durbin-Watson:                   1.619\n",
      "Prob(Omnibus):                  0.112   Jarque-Bera (JB):                2.767\n",
      "Skew:                           0.569   Prob(JB):                        0.251\n",
      "Kurtosis:                       3.958   Cond. No.                     1.15e+04\n",
      "==============================================================================\n",
      "\n",
      "Notes:\n",
      "[1] Standard Errors assume that the covariance matrix of the errors is correctly specified.\n",
      "[2] The condition number is large, 1.15e+04. This might indicate that there are\n",
      "strong multicollinearity or other numerical problems.\n"
     ]
    }
   ],
   "source": [
    "print(results.summary())"
   ]
  },
  {
   "cell_type": "code",
   "execution_count": 21,
   "metadata": {},
   "outputs": [],
   "source": [
    "## Create and print an ANOVA table"
   ]
  },
  {
   "cell_type": "code",
   "execution_count": 22,
   "metadata": {},
   "outputs": [
    {
     "name": "stdout",
     "output_type": "stream",
     "text": [
      "                      sum_sq    df          F    PR(>F)\n",
      "property_size  185956.980096   1.0  39.850226  0.000002\n",
      "house_size      45335.829171   1.0   9.715382  0.004693\n",
      "Rooms              27.229339   1.0   0.005835  0.939743\n",
      "Baths           13203.326340   1.0   2.829448  0.105518\n",
      "Garage           3736.437085   1.0   0.800711  0.379768\n",
      "Residual       111993.529961  24.0        NaN       NaN\n"
     ]
    }
   ],
   "source": [
    "aov_table = sm.stats.anova_lm(results, typ=2)\n",
    "print(aov_table)"
   ]
  },
  {
   "cell_type": "code",
   "execution_count": 23,
   "metadata": {},
   "outputs": [],
   "source": [
    "## Explain whether or not you think this is a good model and why. \n",
    "## You must use at least 2 measurements from your model to explain."
   ]
  },
  {
   "cell_type": "code",
   "execution_count": 24,
   "metadata": {},
   "outputs": [],
   "source": [
    "## I believe this is a decent model. According to the R-squared value, the model accounts for about 82% of \n",
    "## the variability in fair_market_value, and the p-value for the F-statistic is close to 0, indicating that \n",
    "##the results are likely significant. However, when looking through the p-values for each independent \n",
    "## variable,it seems that only two (property_size and house_size) are significant, and it may be worthwile \n",
    "## to consider removing these insignificant variables. (this is all assuming a significance level of 0.05)"
   ]
  },
  {
   "cell_type": "code",
   "execution_count": 25,
   "metadata": {},
   "outputs": [],
   "source": [
    "## Type out the regression equation with the coefficients from the model output"
   ]
  },
  {
   "cell_type": "code",
   "execution_count": 26,
   "metadata": {},
   "outputs": [],
   "source": [
    "## Y = 78.0523 + (359.3104)property_size + (0.1025)house_size + (0.7385)Rooms + (36.8445)Baths \n",
    "## + (28.3802)Garage"
   ]
  },
  {
   "cell_type": "code",
   "execution_count": 27,
   "metadata": {},
   "outputs": [],
   "source": [
    "## Predict the fair market value of a house that is 2000 sqft, on 0.30 acres, with 6 rooms, 2 bathrooms, and \n",
    "## a garage"
   ]
  },
  {
   "cell_type": "code",
   "execution_count": 28,
   "metadata": {},
   "outputs": [
    {
     "name": "stdout",
     "output_type": "stream",
     "text": [
      "0    497.40 Thousand Dollars\n"
     ]
    }
   ],
   "source": [
    "prediction =  results.predict(exog=dict(house_size = 2000, property_size = 0.30, Rooms = 6, Baths = 2, Garage = 1))\n",
    "prediction_string = prediction.to_string()\n",
    "print(prediction_string[:11], \"Thousand Dollars\")"
   ]
  },
  {
   "cell_type": "markdown",
   "metadata": {},
   "source": [
    "# Plotting the Distribution of NBA Franchise Values"
   ]
  },
  {
   "cell_type": "code",
   "execution_count": 29,
   "metadata": {},
   "outputs": [],
   "source": [
    "## Download the dataset NBAValues.xlsx"
   ]
  },
  {
   "cell_type": "code",
   "execution_count": 30,
   "metadata": {},
   "outputs": [],
   "source": [
    "## Upload the dataset into your jupyter notebook using pandas"
   ]
  },
  {
   "cell_type": "code",
   "execution_count": 31,
   "metadata": {},
   "outputs": [],
   "source": [
    "nba_file = 'C:\\\\Users\\\\Joey\\\\Documents\\\\NBAValues.xlsx'\n",
    "nba = pd.read_excel(nba_file)"
   ]
  },
  {
   "cell_type": "code",
   "execution_count": 32,
   "metadata": {},
   "outputs": [],
   "source": [
    "## Display the entire dataframe without using the print function"
   ]
  },
  {
   "cell_type": "code",
   "execution_count": 33,
   "metadata": {},
   "outputs": [
    {
     "data": {
      "text/html": [
       "<div>\n",
       "<style scoped>\n",
       "    .dataframe tbody tr th:only-of-type {\n",
       "        vertical-align: middle;\n",
       "    }\n",
       "\n",
       "    .dataframe tbody tr th {\n",
       "        vertical-align: top;\n",
       "    }\n",
       "\n",
       "    .dataframe thead th {\n",
       "        text-align: right;\n",
       "    }\n",
       "</style>\n",
       "<table border=\"1\" class=\"dataframe\">\n",
       "  <thead>\n",
       "    <tr style=\"text-align: right;\">\n",
       "      <th></th>\n",
       "      <th>Team Name</th>\n",
       "      <th>Team Code</th>\n",
       "      <th>Revenue ($mil)</th>\n",
       "      <th>Current Value ($mil)</th>\n",
       "    </tr>\n",
       "  </thead>\n",
       "  <tbody>\n",
       "    <tr>\n",
       "      <th>0</th>\n",
       "      <td>Atlanta Hawks</td>\n",
       "      <td>ATL</td>\n",
       "      <td>133</td>\n",
       "      <td>825</td>\n",
       "    </tr>\n",
       "    <tr>\n",
       "      <th>1</th>\n",
       "      <td>Boston Celtics</td>\n",
       "      <td>BOS</td>\n",
       "      <td>173</td>\n",
       "      <td>1700</td>\n",
       "    </tr>\n",
       "    <tr>\n",
       "      <th>2</th>\n",
       "      <td>Brooklyn Nets</td>\n",
       "      <td>BKN</td>\n",
       "      <td>212</td>\n",
       "      <td>1500</td>\n",
       "    </tr>\n",
       "    <tr>\n",
       "      <th>3</th>\n",
       "      <td>Charlotte Bobcats</td>\n",
       "      <td>CHA</td>\n",
       "      <td>130</td>\n",
       "      <td>725</td>\n",
       "    </tr>\n",
       "    <tr>\n",
       "      <th>4</th>\n",
       "      <td>Chicago Bulls</td>\n",
       "      <td>CHI</td>\n",
       "      <td>201</td>\n",
       "      <td>2000</td>\n",
       "    </tr>\n",
       "    <tr>\n",
       "      <th>5</th>\n",
       "      <td>Cleveland Cavaliers</td>\n",
       "      <td>CLE</td>\n",
       "      <td>149</td>\n",
       "      <td>915</td>\n",
       "    </tr>\n",
       "    <tr>\n",
       "      <th>6</th>\n",
       "      <td>Dallas Mavericks</td>\n",
       "      <td>DAL</td>\n",
       "      <td>168</td>\n",
       "      <td>1150</td>\n",
       "    </tr>\n",
       "    <tr>\n",
       "      <th>7</th>\n",
       "      <td>Denver Nuggets</td>\n",
       "      <td>DEN</td>\n",
       "      <td>136</td>\n",
       "      <td>855</td>\n",
       "    </tr>\n",
       "    <tr>\n",
       "      <th>8</th>\n",
       "      <td>Detroit Pistons</td>\n",
       "      <td>DET</td>\n",
       "      <td>144</td>\n",
       "      <td>810</td>\n",
       "    </tr>\n",
       "    <tr>\n",
       "      <th>9</th>\n",
       "      <td>Golden State Warriors</td>\n",
       "      <td>GSW</td>\n",
       "      <td>168</td>\n",
       "      <td>1300</td>\n",
       "    </tr>\n",
       "    <tr>\n",
       "      <th>10</th>\n",
       "      <td>Houston Rockets</td>\n",
       "      <td>HOU</td>\n",
       "      <td>175</td>\n",
       "      <td>1250</td>\n",
       "    </tr>\n",
       "    <tr>\n",
       "      <th>11</th>\n",
       "      <td>Indiana Pacers</td>\n",
       "      <td>IND</td>\n",
       "      <td>149</td>\n",
       "      <td>830</td>\n",
       "    </tr>\n",
       "    <tr>\n",
       "      <th>12</th>\n",
       "      <td>Los Angeles Clippers</td>\n",
       "      <td>LAC</td>\n",
       "      <td>146</td>\n",
       "      <td>1600</td>\n",
       "    </tr>\n",
       "    <tr>\n",
       "      <th>13</th>\n",
       "      <td>Los Angeles Lakers</td>\n",
       "      <td>LAL</td>\n",
       "      <td>293</td>\n",
       "      <td>2600</td>\n",
       "    </tr>\n",
       "    <tr>\n",
       "      <th>14</th>\n",
       "      <td>Memphis Grizzlies</td>\n",
       "      <td>MEM</td>\n",
       "      <td>135</td>\n",
       "      <td>750</td>\n",
       "    </tr>\n",
       "    <tr>\n",
       "      <th>15</th>\n",
       "      <td>Miami Heat</td>\n",
       "      <td>MIA</td>\n",
       "      <td>188</td>\n",
       "      <td>1175</td>\n",
       "    </tr>\n",
       "    <tr>\n",
       "      <th>16</th>\n",
       "      <td>Milwaukee Bucks</td>\n",
       "      <td>MIL</td>\n",
       "      <td>110</td>\n",
       "      <td>600</td>\n",
       "    </tr>\n",
       "    <tr>\n",
       "      <th>17</th>\n",
       "      <td>Minnesota Timberwolves</td>\n",
       "      <td>MIN</td>\n",
       "      <td>128</td>\n",
       "      <td>625</td>\n",
       "    </tr>\n",
       "    <tr>\n",
       "      <th>18</th>\n",
       "      <td>New Orleans Pelicans</td>\n",
       "      <td>NOH</td>\n",
       "      <td>131</td>\n",
       "      <td>650</td>\n",
       "    </tr>\n",
       "    <tr>\n",
       "      <th>19</th>\n",
       "      <td>New York Knicks</td>\n",
       "      <td>NYK</td>\n",
       "      <td>278</td>\n",
       "      <td>2500</td>\n",
       "    </tr>\n",
       "    <tr>\n",
       "      <th>20</th>\n",
       "      <td>Oklahoma City Thunder</td>\n",
       "      <td>OKC</td>\n",
       "      <td>152</td>\n",
       "      <td>930</td>\n",
       "    </tr>\n",
       "    <tr>\n",
       "      <th>21</th>\n",
       "      <td>Orlando Magic</td>\n",
       "      <td>ORL</td>\n",
       "      <td>143</td>\n",
       "      <td>875</td>\n",
       "    </tr>\n",
       "    <tr>\n",
       "      <th>22</th>\n",
       "      <td>Philadelphia 76ers</td>\n",
       "      <td>PHI</td>\n",
       "      <td>125</td>\n",
       "      <td>700</td>\n",
       "    </tr>\n",
       "    <tr>\n",
       "      <th>23</th>\n",
       "      <td>Phoenix Suns</td>\n",
       "      <td>PHX</td>\n",
       "      <td>145</td>\n",
       "      <td>910</td>\n",
       "    </tr>\n",
       "    <tr>\n",
       "      <th>24</th>\n",
       "      <td>Portland Trail Blazers</td>\n",
       "      <td>POR</td>\n",
       "      <td>153</td>\n",
       "      <td>940</td>\n",
       "    </tr>\n",
       "    <tr>\n",
       "      <th>25</th>\n",
       "      <td>Sacramento Kings</td>\n",
       "      <td>SAC</td>\n",
       "      <td>125</td>\n",
       "      <td>800</td>\n",
       "    </tr>\n",
       "    <tr>\n",
       "      <th>26</th>\n",
       "      <td>San Antonio Spurs</td>\n",
       "      <td>SAS</td>\n",
       "      <td>174</td>\n",
       "      <td>1000</td>\n",
       "    </tr>\n",
       "    <tr>\n",
       "      <th>27</th>\n",
       "      <td>Toronto Raptors</td>\n",
       "      <td>TOR</td>\n",
       "      <td>151</td>\n",
       "      <td>920</td>\n",
       "    </tr>\n",
       "    <tr>\n",
       "      <th>28</th>\n",
       "      <td>Utah Jazz</td>\n",
       "      <td>UTA</td>\n",
       "      <td>142</td>\n",
       "      <td>830</td>\n",
       "    </tr>\n",
       "    <tr>\n",
       "      <th>29</th>\n",
       "      <td>Washington Wizards</td>\n",
       "      <td>WAS</td>\n",
       "      <td>143</td>\n",
       "      <td>900</td>\n",
       "    </tr>\n",
       "  </tbody>\n",
       "</table>\n",
       "</div>"
      ],
      "text/plain": [
       "                 Team Name Team Code  Revenue ($mil)   Current Value ($mil) \n",
       "0            Atlanta Hawks       ATL              133                    825\n",
       "1           Boston Celtics       BOS              173                   1700\n",
       "2            Brooklyn Nets       BKN              212                   1500\n",
       "3        Charlotte Bobcats       CHA              130                    725\n",
       "4            Chicago Bulls       CHI              201                   2000\n",
       "5      Cleveland Cavaliers       CLE              149                    915\n",
       "6         Dallas Mavericks       DAL              168                   1150\n",
       "7           Denver Nuggets       DEN              136                    855\n",
       "8          Detroit Pistons       DET              144                    810\n",
       "9    Golden State Warriors       GSW              168                   1300\n",
       "10         Houston Rockets       HOU              175                   1250\n",
       "11          Indiana Pacers       IND              149                    830\n",
       "12    Los Angeles Clippers       LAC              146                   1600\n",
       "13      Los Angeles Lakers       LAL              293                   2600\n",
       "14       Memphis Grizzlies       MEM              135                    750\n",
       "15              Miami Heat       MIA              188                   1175\n",
       "16         Milwaukee Bucks       MIL              110                    600\n",
       "17  Minnesota Timberwolves       MIN              128                    625\n",
       "18    New Orleans Pelicans       NOH              131                    650\n",
       "19         New York Knicks       NYK              278                   2500\n",
       "20   Oklahoma City Thunder       OKC              152                    930\n",
       "21           Orlando Magic       ORL              143                    875\n",
       "22      Philadelphia 76ers       PHI              125                    700\n",
       "23            Phoenix Suns       PHX              145                    910\n",
       "24  Portland Trail Blazers       POR              153                    940\n",
       "25        Sacramento Kings       SAC              125                    800\n",
       "26       San Antonio Spurs       SAS              174                   1000\n",
       "27         Toronto Raptors       TOR              151                    920\n",
       "28               Utah Jazz       UTA              142                    830\n",
       "29      Washington Wizards       WAS              143                    900"
      ]
     },
     "execution_count": 33,
     "metadata": {},
     "output_type": "execute_result"
    }
   ],
   "source": [
    "nba"
   ]
  },
  {
   "cell_type": "code",
   "execution_count": 34,
   "metadata": {},
   "outputs": [],
   "source": [
    "## Create at least 3 histograms of the Current Value column and change the number of bins and the color \n",
    "## for each graph. "
   ]
  },
  {
   "cell_type": "code",
   "execution_count": 35,
   "metadata": {},
   "outputs": [],
   "source": [
    "## Each histogram should have an x-axis label, y-axis label, and title. The axis labels should have size \n",
    "## 10 font and the title should be size 16."
   ]
  },
  {
   "cell_type": "code",
   "execution_count": 36,
   "metadata": {},
   "outputs": [
    {
     "data": {
      "text/plain": [
       "([<matplotlib.axis.XTick at 0x29072233fa0>,\n",
       "  <matplotlib.axis.XTick at 0x29072233f70>,\n",
       "  <matplotlib.axis.XTick at 0x29071b90910>,\n",
       "  <matplotlib.axis.XTick at 0x290722842e0>],\n",
       " [Text(0, 0, ''), Text(0, 0, ''), Text(0, 0, ''), Text(0, 0, '')])"
      ]
     },
     "execution_count": 36,
     "metadata": {},
     "output_type": "execute_result"
    },
    {
     "data": {
      "image/png": "[encoded data removed]",
      "text/plain": [
       "<Figure size 432x288 with 1 Axes>"
      ]
     },
     "metadata": {
      "needs_background": "light"
     },
     "output_type": "display_data"
    }
   ],
   "source": [
    "fig, ax = plt.subplots()\n",
    "plt.hist(nba['Current Value ($mil) '], bins = 4, color = 'powderblue')\n",
    "plt.title('Value of NBA Teams', fontsize = 16)\n",
    "ax.set_xlabel('Value (Millions of Dollars)', fontsize = 10)\n",
    "ax.set_ylabel('Number of Teams', fontsize = 10)\n",
    "plt.xticks(np.arange(600, 2550, 500)) "
   ]
  },
  {
   "cell_type": "code",
   "execution_count": 37,
   "metadata": {},
   "outputs": [
    {
     "data": {
      "text/plain": [
       "([<matplotlib.axis.XTick at 0x29072305d60>,\n",
       "  <matplotlib.axis.XTick at 0x29072305d30>,\n",
       "  <matplotlib.axis.XTick at 0x290722fa9d0>,\n",
       "  <matplotlib.axis.XTick at 0x2907233a370>,\n",
       "  <matplotlib.axis.XTick at 0x2907233a880>],\n",
       " [Text(0, 0, ''),\n",
       "  Text(0, 0, ''),\n",
       "  Text(0, 0, ''),\n",
       "  Text(0, 0, ''),\n",
       "  Text(0, 0, '')])"
      ]
     },
     "execution_count": 37,
     "metadata": {},
     "output_type": "execute_result"
    },
    {
     "data": {
      "image/png": "[encoded data removed]",
      "text/plain": [
       "<Figure size 432x288 with 1 Axes>"
      ]
     },
     "metadata": {
      "needs_background": "light"
     },
     "output_type": "display_data"
    }
   ],
   "source": [
    "fig, ax = plt.subplots()\n",
    "plt.hist(nba['Current Value ($mil) '], bins = 5, color = 'indianred')\n",
    "plt.title('Value of NBA Teams', fontsize = 16)\n",
    "ax.set_xlabel('Value (Millions of Dollars)', fontsize = 10)\n",
    "ax.set_ylabel('Number of Teams', fontsize = 10)\n",
    "plt.xticks(np.arange(600, 2600, 400)) "
   ]
  },
  {
   "cell_type": "code",
   "execution_count": 38,
   "metadata": {},
   "outputs": [
    {
     "data": {
      "text/plain": [
       "([<matplotlib.axis.XTick at 0x2907236d4c0>,\n",
       "  <matplotlib.axis.XTick at 0x2907236d490>,\n",
       "  <matplotlib.axis.XTick at 0x29072367490>,\n",
       "  <matplotlib.axis.XTick at 0x290723aa8b0>,\n",
       "  <matplotlib.axis.XTick at 0x290723aadc0>,\n",
       "  <matplotlib.axis.XTick at 0x290723b3310>,\n",
       "  <matplotlib.axis.XTick at 0x290723b3820>,\n",
       "  <matplotlib.axis.XTick at 0x290723b3d30>,\n",
       "  <matplotlib.axis.XTick at 0x290723bb280>,\n",
       "  <matplotlib.axis.XTick at 0x290723bb790>],\n",
       " [Text(0, 0, ''),\n",
       "  Text(0, 0, ''),\n",
       "  Text(0, 0, ''),\n",
       "  Text(0, 0, ''),\n",
       "  Text(0, 0, ''),\n",
       "  Text(0, 0, ''),\n",
       "  Text(0, 0, ''),\n",
       "  Text(0, 0, ''),\n",
       "  Text(0, 0, ''),\n",
       "  Text(0, 0, '')])"
      ]
     },
     "execution_count": 38,
     "metadata": {},
     "output_type": "execute_result"
    },
    {
     "data": {
      "image/png": "[encoded data removed]",
      "text/plain": [
       "<Figure size 432x288 with 1 Axes>"
      ]
     },
     "metadata": {
      "needs_background": "light"
     },
     "output_type": "display_data"
    }
   ],
   "source": [
    "fig, ax = plt.subplots()\n",
    "plt.hist(nba['Current Value ($mil) '], bins = 10, color = 'gainsboro')\n",
    "plt.title('Value of NBA Teams', fontsize = 16)\n",
    "ax.set_xlabel('Value (Millions of Dollars)', fontsize = 10)\n",
    "ax.set_ylabel('Number of Teams', fontsize = 10)\n",
    "plt.xticks(np.arange(600, 2600, 200)) "
   ]
  },
  {
   "cell_type": "code",
   "execution_count": 39,
   "metadata": {},
   "outputs": [],
   "source": [
    "## Specify what you think is the best number of bins for this dataset"
   ]
  },
  {
   "cell_type": "code",
   "execution_count": 40,
   "metadata": {},
   "outputs": [],
   "source": [
    "## The best number of bins is 5 as it limits the number of white space while also providing a smooth \n",
    "## and detailed distribution curve."
   ]
  },
  {
   "cell_type": "code",
   "execution_count": 41,
   "metadata": {},
   "outputs": [],
   "source": [
    "## Describe the shape of the distribution (e.g. normal, bimodal, right-skewed, left-skewed, etc.)"
   ]
  },
  {
   "cell_type": "code",
   "execution_count": 42,
   "metadata": {},
   "outputs": [],
   "source": [
    "## This is a right-skewed distribution as the right side (tail) is longer than the left side."
   ]
  },
  {
   "cell_type": "markdown",
   "metadata": {},
   "source": [
    "# Plotting the Distribution of MLB Franchise Values"
   ]
  },
  {
   "cell_type": "code",
   "execution_count": 43,
   "metadata": {},
   "outputs": [],
   "source": [
    "## Download the dataset baseball_values.csv"
   ]
  },
  {
   "cell_type": "code",
   "execution_count": 44,
   "metadata": {},
   "outputs": [],
   "source": [
    "## Upload the dataset using pandas"
   ]
  },
  {
   "cell_type": "code",
   "execution_count": 45,
   "metadata": {},
   "outputs": [],
   "source": [
    "mlb_file = 'C:\\\\Users\\\\Joey\\\\Documents\\\\baseball_values.csv'\n",
    "mlb = pd.read_csv(mlb_file)"
   ]
  },
  {
   "cell_type": "code",
   "execution_count": 46,
   "metadata": {},
   "outputs": [
    {
     "name": "stdout",
     "output_type": "stream",
     "text": [
      "                   Team  Revenue  Value\n",
      "0             Baltimore      245   1000\n",
      "1                Boston      370   2100\n",
      "2     Chicago White Sox      227    975\n",
      "3             Cleveland      207    825\n",
      "4               Detroit      254   1125\n",
      "5               Houston      175    800\n",
      "6           Kansas City      231    700\n",
      "7    Los Angeles Angels      304   1300\n",
      "8             Minnesota      223    895\n",
      "9      New York Yankees      508   3200\n",
      "10              Oakland      202    725\n",
      "11              Seattle      250   1100\n",
      "12            Tampa Bay      188    625\n",
      "13                Texas      266   1220\n",
      "14              Toronto      226    870\n",
      "15              Arizona      211    840\n",
      "16              Atlanta      267   1150\n",
      "17         Chicago Cubs      302   1800\n",
      "18           Cincinnati      227    885\n",
      "19             Colorado      214    855\n",
      "20  Los Angeles Dodgers      403   2400\n",
      "21                Miami      188    650\n",
      "22            Milwaukee      226    875\n",
      "23        New York Mets      263   1350\n",
      "24         Philadelphia      265   1250\n",
      "25           Pittsburgh      229    900\n",
      "26            St. Louis      294   1400\n",
      "27            San Diego      225    890\n",
      "28        San Francisco      387   2000\n",
      "29           Washington      287   1280\n"
     ]
    }
   ],
   "source": [
    "## Create a boxplot of the value column. Include an x-axis label, title, and change the color\n",
    "print(mlb)"
   ]
  },
  {
   "cell_type": "code",
   "execution_count": 47,
   "metadata": {},
   "outputs": [
    {
     "data": {
      "text/plain": [
       "Text(0.5, 0, 'Value (Millions of Dollars)')"
      ]
     },
     "execution_count": 47,
     "metadata": {},
     "output_type": "execute_result"
    },
    {
     "data": {
      "image/png": "[encoded data removed]",
      "text/plain": [
       "<Figure size 432x288 with 1 Axes>"
      ]
     },
     "metadata": {
      "needs_background": "light"
     },
     "output_type": "display_data"
    }
   ],
   "source": [
    "mlb_plot = sns.boxplot(x = 'Value', data = mlb, color = 'palegoldenrod')\n",
    "mlb_plot.set_title('Value of MLB Teams')\n",
    "mlb_plot.set_xlabel('Value (Millions of Dollars)')"
   ]
  },
  {
   "cell_type": "code",
   "execution_count": 48,
   "metadata": {},
   "outputs": [],
   "source": [
    "## Change the orientation of the boxplot so it is displayed vertically instead of horizontally. \n",
    "## (seaborn has since changed syntax for vertical boxplots, need to check documentation to fix)"
   ]
  },
  {
   "cell_type": "code",
   "execution_count": 49,
   "metadata": {},
   "outputs": [
    {
     "name": "stderr",
     "output_type": "stream",
     "text": [
      "C:\\Users\\Joey\\anaconda3\\lib\\site-packages\\seaborn\\_core.py:1303: UserWarning: Vertical orientation ignored with only `x` specified.\n",
      "  warnings.warn(single_var_warning.format(\"Vertical\", \"x\"))\n"
     ]
    },
    {
     "data": {
      "text/plain": [
       "Text(0.5, 0, 'Value (Millions of Dollars)')"
      ]
     },
     "execution_count": 49,
     "metadata": {},
     "output_type": "execute_result"
    },
    {
     "data": {
      "image/png": "[encoded data removed]",
      "text/plain": [
       "<Figure size 432x288 with 1 Axes>"
      ]
     },
     "metadata": {
      "needs_background": "light"
     },
     "output_type": "display_data"
    }
   ],
   "source": [
    "mlb_plot = sns.boxplot(x = 'Value', data = mlb, color = 'palegoldenrod', orient = 'v')\n",
    "mlb_plot.set_title('Value of MLB Teams')\n",
    "mlb_plot.set_xlabel('Value (Millions of Dollars)')"
   ]
  },
  {
   "cell_type": "code",
   "execution_count": 50,
   "metadata": {},
   "outputs": [],
   "source": [
    "## Adjust an optional argument so that the whiskers extend 3X the IQR"
   ]
  },
  {
   "cell_type": "code",
   "execution_count": 51,
   "metadata": {},
   "outputs": [
    {
     "data": {
      "text/plain": [
       "Text(0.5, 0, 'Value (Millions of Dollars)')"
      ]
     },
     "execution_count": 51,
     "metadata": {},
     "output_type": "execute_result"
    },
    {
     "data": {
      "image/png": "[encoded data removed]",
      "text/plain": [
       "<Figure size 432x288 with 1 Axes>"
      ]
     },
     "metadata": {
      "needs_background": "light"
     },
     "output_type": "display_data"
    }
   ],
   "source": [
    "mlb_plot = sns.boxplot(x = 'Value', data = mlb, color = 'palegoldenrod', whis = 3)\n",
    "mlb_plot.set_title('Value of MLB Teams')\n",
    "mlb_plot.set_xlabel('Value (Millions of Dollars)')"
   ]
  },
  {
   "cell_type": "code",
   "execution_count": 52,
   "metadata": {},
   "outputs": [],
   "source": [
    "## Label the outlier with the team name displayed in red above the point"
   ]
  },
  {
   "cell_type": "code",
   "execution_count": 53,
   "metadata": {},
   "outputs": [
    {
     "data": {
      "text/plain": [
       "Text(3245, -0.02, 'The New York Yankees')"
      ]
     },
     "execution_count": 53,
     "metadata": {},
     "output_type": "execute_result"
    },
    {
     "data": {
      "image/png": "[encoded data removed]",
      "text/plain": [
       "<Figure size 432x288 with 1 Axes>"
      ]
     },
     "metadata": {
      "needs_background": "light"
     },
     "output_type": "display_data"
    }
   ],
   "source": [
    "mlb_plot = sns.boxplot(x = 'Value', data = mlb, color = 'palegoldenrod', whis = 3)\n",
    "mlb_plot.set_title('Value of MLB Teams')\n",
    "mlb_plot.set_xlabel('Value (Millions of Dollars)')\n",
    "mlb_plot.text(x = 3245, y = -.02, s = 'The New York Yankees', color = 'tab:red')"
   ]
  },
  {
   "cell_type": "code",
   "execution_count": 54,
   "metadata": {},
   "outputs": [],
   "source": [
    "## Create a violin plot of the value column. Include a title and x-axis label."
   ]
  },
  {
   "cell_type": "code",
   "execution_count": 55,
   "metadata": {},
   "outputs": [
    {
     "data": {
      "text/plain": [
       "Text(0.5, 0, 'Value (Millions of Dollars)')"
      ]
     },
     "execution_count": 55,
     "metadata": {},
     "output_type": "execute_result"
    },
    {
     "data": {
      "image/png": "[encoded data removed]",
      "text/plain": [
       "<Figure size 432x288 with 1 Axes>"
      ]
     },
     "metadata": {
      "needs_background": "light"
     },
     "output_type": "display_data"
    }
   ],
   "source": [
    "mlb_violin = sns.violinplot(x = 'Value', data = mlb, color = 'lightcyan')\n",
    "mlb_violin.set_title('Value of MLB Teams')\n",
    "mlb_violin.set_xlabel('Value (Millions of Dollars)')"
   ]
  },
  {
   "cell_type": "code",
   "execution_count": 56,
   "metadata": {},
   "outputs": [],
   "source": [
    "## Type the approximate mode of the dataset"
   ]
  },
  {
   "cell_type": "code",
   "execution_count": 57,
   "metadata": {},
   "outputs": [],
   "source": [
    "## The approximate mode is 990"
   ]
  },
  {
   "cell_type": "markdown",
   "metadata": {},
   "source": [
    "# Using k-NN to Classify Types of Fruit"
   ]
  },
  {
   "cell_type": "code",
   "execution_count": 58,
   "metadata": {},
   "outputs": [],
   "source": [
    "## Download the dataset fruit.tsv"
   ]
  },
  {
   "cell_type": "code",
   "execution_count": 59,
   "metadata": {},
   "outputs": [],
   "source": [
    "## Upload the dataset using a pandas function that can read in tabular \n",
    "## separated values"
   ]
  },
  {
   "cell_type": "code",
   "execution_count": 60,
   "metadata": {},
   "outputs": [],
   "source": [
    "fruit_file = 'C:\\\\Users\\\\Joey\\\\Documents\\\\fruit.tsv'\n",
    "fruit = pd.read_table(fruit_file)"
   ]
  },
  {
   "cell_type": "code",
   "execution_count": 61,
   "metadata": {},
   "outputs": [],
   "source": [
    "## Display the first 5 rows of the data "
   ]
  },
  {
   "cell_type": "code",
   "execution_count": 62,
   "metadata": {},
   "outputs": [
    {
     "data": {
      "text/html": [
       "<div>\n",
       "<style scoped>\n",
       "    .dataframe tbody tr th:only-of-type {\n",
       "        vertical-align: middle;\n",
       "    }\n",
       "\n",
       "    .dataframe tbody tr th {\n",
       "        vertical-align: top;\n",
       "    }\n",
       "\n",
       "    .dataframe thead th {\n",
       "        text-align: right;\n",
       "    }\n",
       "</style>\n",
       "<table border=\"1\" class=\"dataframe\">\n",
       "  <thead>\n",
       "    <tr style=\"text-align: right;\">\n",
       "      <th></th>\n",
       "      <th>fruit_label</th>\n",
       "      <th>fruit_name</th>\n",
       "      <th>fruit_subtype</th>\n",
       "      <th>mass</th>\n",
       "      <th>width</th>\n",
       "      <th>height</th>\n",
       "      <th>color_score</th>\n",
       "    </tr>\n",
       "  </thead>\n",
       "  <tbody>\n",
       "    <tr>\n",
       "      <th>0</th>\n",
       "      <td>1</td>\n",
       "      <td>apple</td>\n",
       "      <td>granny_smith</td>\n",
       "      <td>192</td>\n",
       "      <td>8.4</td>\n",
       "      <td>7.3</td>\n",
       "      <td>0.55</td>\n",
       "    </tr>\n",
       "    <tr>\n",
       "      <th>1</th>\n",
       "      <td>1</td>\n",
       "      <td>apple</td>\n",
       "      <td>granny_smith</td>\n",
       "      <td>180</td>\n",
       "      <td>8.0</td>\n",
       "      <td>6.8</td>\n",
       "      <td>0.59</td>\n",
       "    </tr>\n",
       "    <tr>\n",
       "      <th>2</th>\n",
       "      <td>1</td>\n",
       "      <td>apple</td>\n",
       "      <td>granny_smith</td>\n",
       "      <td>176</td>\n",
       "      <td>7.4</td>\n",
       "      <td>7.2</td>\n",
       "      <td>0.60</td>\n",
       "    </tr>\n",
       "    <tr>\n",
       "      <th>3</th>\n",
       "      <td>2</td>\n",
       "      <td>mandarin</td>\n",
       "      <td>mandarin</td>\n",
       "      <td>86</td>\n",
       "      <td>6.2</td>\n",
       "      <td>4.7</td>\n",
       "      <td>0.80</td>\n",
       "    </tr>\n",
       "    <tr>\n",
       "      <th>4</th>\n",
       "      <td>2</td>\n",
       "      <td>mandarin</td>\n",
       "      <td>mandarin</td>\n",
       "      <td>84</td>\n",
       "      <td>6.0</td>\n",
       "      <td>4.6</td>\n",
       "      <td>0.79</td>\n",
       "    </tr>\n",
       "  </tbody>\n",
       "</table>\n",
       "</div>"
      ],
      "text/plain": [
       "   fruit_label fruit_name fruit_subtype  mass  width  height  color_score\n",
       "0            1      apple  granny_smith   192    8.4     7.3         0.55\n",
       "1            1      apple  granny_smith   180    8.0     6.8         0.59\n",
       "2            1      apple  granny_smith   176    7.4     7.2         0.60\n",
       "3            2   mandarin      mandarin    86    6.2     4.7         0.80\n",
       "4            2   mandarin      mandarin    84    6.0     4.6         0.79"
      ]
     },
     "execution_count": 62,
     "metadata": {},
     "output_type": "execute_result"
    }
   ],
   "source": [
    "fruit.head()"
   ]
  },
  {
   "cell_type": "code",
   "execution_count": 63,
   "metadata": {},
   "outputs": [],
   "source": [
    "## Determine how many observations of each fruit are contained in the dataset"
   ]
  },
  {
   "cell_type": "code",
   "execution_count": 64,
   "metadata": {},
   "outputs": [],
   "source": [
    "num_apple = (fruit.fruit_label == 1).sum()\n",
    "num_mandarin = (fruit.fruit_label == 2).sum()\n",
    "num_orange = (fruit.fruit_label == 3).sum()\n",
    "num_lemon = (fruit.fruit_label == 4).sum()"
   ]
  },
  {
   "cell_type": "code",
   "execution_count": 65,
   "metadata": {},
   "outputs": [
    {
     "name": "stdout",
     "output_type": "stream",
     "text": [
      "19 apples, 5 mandarins, 19 oranges, 16 lemons\n"
     ]
    }
   ],
   "source": [
    "print(num_apple, 'apples,', num_mandarin, 'mandarins,', num_orange, 'oranges,', num_lemon, 'lemons')"
   ]
  },
  {
   "cell_type": "code",
   "execution_count": 66,
   "metadata": {},
   "outputs": [],
   "source": [
    "## Subset the dataframe and create a new dataframe with just the columns 'fruit_name', 'mass','width', \n",
    "## 'height', and 'color_score' "
   ]
  },
  {
   "cell_type": "code",
   "execution_count": 67,
   "metadata": {},
   "outputs": [],
   "source": [
    "fruit_final = fruit[['fruit_name', 'mass', 'width', 'height', 'color_score']]"
   ]
  },
  {
   "cell_type": "code",
   "execution_count": 68,
   "metadata": {},
   "outputs": [
    {
     "data": {
      "text/html": [
       "<div>\n",
       "<style scoped>\n",
       "    .dataframe tbody tr th:only-of-type {\n",
       "        vertical-align: middle;\n",
       "    }\n",
       "\n",
       "    .dataframe tbody tr th {\n",
       "        vertical-align: top;\n",
       "    }\n",
       "\n",
       "    .dataframe thead th {\n",
       "        text-align: right;\n",
       "    }\n",
       "</style>\n",
       "<table border=\"1\" class=\"dataframe\">\n",
       "  <thead>\n",
       "    <tr style=\"text-align: right;\">\n",
       "      <th></th>\n",
       "      <th>fruit_name</th>\n",
       "      <th>mass</th>\n",
       "      <th>width</th>\n",
       "      <th>height</th>\n",
       "      <th>color_score</th>\n",
       "    </tr>\n",
       "  </thead>\n",
       "  <tbody>\n",
       "    <tr>\n",
       "      <th>0</th>\n",
       "      <td>apple</td>\n",
       "      <td>192</td>\n",
       "      <td>8.4</td>\n",
       "      <td>7.3</td>\n",
       "      <td>0.55</td>\n",
       "    </tr>\n",
       "    <tr>\n",
       "      <th>1</th>\n",
       "      <td>apple</td>\n",
       "      <td>180</td>\n",
       "      <td>8.0</td>\n",
       "      <td>6.8</td>\n",
       "      <td>0.59</td>\n",
       "    </tr>\n",
       "    <tr>\n",
       "      <th>2</th>\n",
       "      <td>apple</td>\n",
       "      <td>176</td>\n",
       "      <td>7.4</td>\n",
       "      <td>7.2</td>\n",
       "      <td>0.60</td>\n",
       "    </tr>\n",
       "    <tr>\n",
       "      <th>3</th>\n",
       "      <td>mandarin</td>\n",
       "      <td>86</td>\n",
       "      <td>6.2</td>\n",
       "      <td>4.7</td>\n",
       "      <td>0.80</td>\n",
       "    </tr>\n",
       "    <tr>\n",
       "      <th>4</th>\n",
       "      <td>mandarin</td>\n",
       "      <td>84</td>\n",
       "      <td>6.0</td>\n",
       "      <td>4.6</td>\n",
       "      <td>0.79</td>\n",
       "    </tr>\n",
       "  </tbody>\n",
       "</table>\n",
       "</div>"
      ],
      "text/plain": [
       "  fruit_name  mass  width  height  color_score\n",
       "0      apple   192    8.4     7.3         0.55\n",
       "1      apple   180    8.0     6.8         0.59\n",
       "2      apple   176    7.4     7.2         0.60\n",
       "3   mandarin    86    6.2     4.7         0.80\n",
       "4   mandarin    84    6.0     4.6         0.79"
      ]
     },
     "execution_count": 68,
     "metadata": {},
     "output_type": "execute_result"
    }
   ],
   "source": [
    "fruit_final.head()"
   ]
  },
  {
   "cell_type": "code",
   "execution_count": 69,
   "metadata": {},
   "outputs": [],
   "source": [
    "## Create a scatterplot matrix using the new dataframe and color the dots based on fruit name. \n",
    "## (Be sure to include title and legend)"
   ]
  },
  {
   "cell_type": "code",
   "execution_count": 70,
   "metadata": {},
   "outputs": [
    {
     "data": {
      "text/plain": [
       "Text(0.5, 1.05, 'Scatterplot Matrix: Fruit Name')"
      ]
     },
     "execution_count": 70,
     "metadata": {},
     "output_type": "execute_result"
    },
    {
     "data": {
      "image/png": "[encoded data removed]",
      "text/plain": [
       "<Figure size 804x720 with 20 Axes>"
      ]
     },
     "metadata": {
      "needs_background": "light"
     },
     "output_type": "display_data"
    }
   ],
   "source": [
    "fruit_matrix = sns.pairplot(fruit_final, hue = 'fruit_name')\n",
    "fruit_matrix.fig.suptitle(\"Scatterplot Matrix: Fruit Name\", y = 1.05, fontsize = 18)"
   ]
  },
  {
   "cell_type": "code",
   "execution_count": 71,
   "metadata": {},
   "outputs": [],
   "source": [
    "## From the scatterplot matrix determine whether or not you think mass and height would be could predictor \n",
    "## variables for the fruit name and leave your answer in a brief comment or markdown cell"
   ]
  },
  {
   "cell_type": "code",
   "execution_count": 72,
   "metadata": {},
   "outputs": [],
   "source": [
    "## I do not think that mass and height would be good predictor variables, as it seems as though there is a lot \n",
    "## of overlap in the different types of fruit near the middle of the distribution. "
   ]
  },
  {
   "cell_type": "code",
   "execution_count": 73,
   "metadata": {},
   "outputs": [],
   "source": [
    "## Assign fruit_name as your dependent variable and the rest of the variables in your new dataframe as your \n",
    "## independent variable"
   ]
  },
  {
   "cell_type": "code",
   "execution_count": 74,
   "metadata": {},
   "outputs": [],
   "source": [
    "x = fruit_final.iloc[:, 1:4].values\n",
    "y = fruit_final.iloc[:, 0].values"
   ]
  },
  {
   "cell_type": "code",
   "execution_count": 75,
   "metadata": {},
   "outputs": [],
   "source": [
    "## Split the data into training and test splits (70% for training and 30% for testing). Set the random state \n",
    "## to 0. "
   ]
  },
  {
   "cell_type": "code",
   "execution_count": 76,
   "metadata": {},
   "outputs": [],
   "source": [
    "x_train, x_test, y_train, y_test = train_test_split(x, y, test_size = 0.3, random_state = 0)"
   ]
  },
  {
   "cell_type": "code",
   "execution_count": 77,
   "metadata": {},
   "outputs": [],
   "source": [
    "## Print out the summary statistics for the independent variables in your training set"
   ]
  },
  {
   "cell_type": "code",
   "execution_count": 78,
   "metadata": {},
   "outputs": [
    {
     "name": "stdout",
     "output_type": "stream",
     "text": [
      "                0          1          2\n",
      "count   41.000000  41.000000  41.000000\n",
      "mean   160.878049   7.058537   7.682927\n",
      "std     53.607926   0.842608   1.236710\n",
      "min     80.000000   5.800000   4.300000\n",
      "25%    130.000000   6.200000   7.300000\n",
      "50%    158.000000   7.200000   7.600000\n",
      "75%    172.000000   7.500000   8.200000\n",
      "max    356.000000   9.200000  10.500000\n"
     ]
    }
   ],
   "source": [
    "print(pd.DataFrame(x_train).describe())"
   ]
  },
  {
   "cell_type": "code",
   "execution_count": 79,
   "metadata": {},
   "outputs": [],
   "source": [
    "## Print out the summary statistics for the independent variables in your test set"
   ]
  },
  {
   "cell_type": "code",
   "execution_count": 80,
   "metadata": {},
   "outputs": [
    {
     "name": "stdout",
     "output_type": "stream",
     "text": [
      "                0          1          2\n",
      "count   18.000000  18.000000  18.000000\n",
      "mean   168.222222   7.211111   7.716667\n",
      "std     59.380682   0.767646   1.649331\n",
      "min     76.000000   5.800000   4.000000\n",
      "25%    144.000000   7.100000   7.200000\n",
      "50%    162.000000   7.200000   7.550000\n",
      "75%    179.000000   7.375000   8.175000\n",
      "max    362.000000   9.600000  10.300000\n"
     ]
    }
   ],
   "source": [
    "print(pd.DataFrame(x_test).describe())"
   ]
  },
  {
   "cell_type": "code",
   "execution_count": 81,
   "metadata": {},
   "outputs": [],
   "source": [
    "## Create a K-NN classifier model with 5NN \n",
    "classifier = KNeighborsClassifier(n_neighbors=5, )"
   ]
  },
  {
   "cell_type": "code",
   "execution_count": 82,
   "metadata": {},
   "outputs": [],
   "source": [
    "## Standardize data (if necessary)\n",
    "## scaler = StandardScaler()  \n",
    "## scaler.fit(x_train)\n",
    "## x_train = scaler.transform(x_train)  \n",
    "## x_test = scaler.transform(x_test) "
   ]
  },
  {
   "cell_type": "code",
   "execution_count": 83,
   "metadata": {},
   "outputs": [
    {
     "data": {
      "text/plain": [
       "KNeighborsClassifier()"
      ]
     },
     "execution_count": 83,
     "metadata": {},
     "output_type": "execute_result"
    }
   ],
   "source": [
    "## Initialize the classifier\n",
    "classifier.fit(x_train, y_train)"
   ]
  },
  {
   "cell_type": "code",
   "execution_count": 84,
   "metadata": {},
   "outputs": [],
   "source": [
    "## Use your test set to make predictions"
   ]
  },
  {
   "cell_type": "code",
   "execution_count": 85,
   "metadata": {},
   "outputs": [
    {
     "data": {
      "text/plain": [
       "array(['orange', 'apple', 'lemon', 'lemon', 'apple', 'apple', 'lemon',\n",
       "       'lemon', 'apple', 'lemon', 'mandarin', 'apple', 'orange', 'apple',\n",
       "       'lemon', 'apple', 'apple', 'mandarin'], dtype=object)"
      ]
     },
     "execution_count": 85,
     "metadata": {},
     "output_type": "execute_result"
    }
   ],
   "source": [
    "y_pred = classifier.predict(x_test)\n",
    "y_pred"
   ]
  },
  {
   "cell_type": "code",
   "execution_count": 86,
   "metadata": {},
   "outputs": [],
   "source": [
    "## Print confusion matrix"
   ]
  },
  {
   "cell_type": "code",
   "execution_count": 87,
   "metadata": {},
   "outputs": [
    {
     "name": "stdout",
     "output_type": "stream",
     "text": [
      "[[3 1 0 0]\n",
      " [1 2 0 0]\n",
      " [0 0 2 0]\n",
      " [4 3 0 2]]\n"
     ]
    }
   ],
   "source": [
    "conf = metrics.confusion_matrix(y_test, y_pred)\n",
    "print(conf)"
   ]
  },
  {
   "cell_type": "code",
   "execution_count": 88,
   "metadata": {},
   "outputs": [],
   "source": [
    "## Print the model accuracy rate"
   ]
  },
  {
   "cell_type": "code",
   "execution_count": 89,
   "metadata": {},
   "outputs": [
    {
     "data": {
      "text/plain": [
       "0.5"
      ]
     },
     "execution_count": 89,
     "metadata": {},
     "output_type": "execute_result"
    }
   ],
   "source": [
    "metrics.accuracy_score(y_test, y_pred)"
   ]
  },
  {
   "cell_type": "code",
   "execution_count": null,
   "metadata": {},
   "outputs": [],
   "source": []
  }
 ],
 "metadata": {
  "kernelspec": {
   "display_name": "Python 3",
   "language": "python",
   "name": "python3"
  },
  "language_info": {
   "codemirror_mode": {
    "name": "ipython",
    "version": 3
   },
   "file_extension": ".py",
   "mimetype": "text/x-python",
   "name": "python",
   "nbconvert_exporter": "python",
   "pygments_lexer": "ipython3",
   "version": "3.8.5"
  }
 },
 "nbformat": 4,
 "nbformat_minor": 4
}
